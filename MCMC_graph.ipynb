{
 "cells": [
  {
   "cell_type": "markdown",
   "metadata": {
    "colab_type": "text",
    "id": "OcBBzD9hqZ_D"
   },
   "source": [
    "Рассмотрим граф $G=(V,E)$, вершинам которого случайным образом приписаны значения 0 и 1 так, что смежные вершины не могут одновременно иметь значение 1. Пример расстановки значений по вершинам графа показан на картинке ниже (черные вершины имеют значение 1, белые - 0):"
   ]
  },
  {
   "cell_type": "markdown",
   "metadata": {
    "colab_type": "text",
    "id": "usAA4DclqZ_E"
   },
   "source": [
    "![img](http://www.mathematik.uni-ulm.de/stochastik/lehre/ss06/markov/skript_engl/bild4.jpg)"
   ]
  },
  {
   "cell_type": "markdown",
   "metadata": {
    "colab_type": "text",
    "id": "LDNX7WXRqZ_E"
   },
   "source": [
    "Как оценить, сколько в среднем закрашенных вершин будет иметь такой граф?\n",
    "\n",
    "Сформулируем задачу в математических терминах.\n",
    "\n",
    "Пусть $\\xi \\in \\{0,1\\}^{V}$ обозначает конфигурацию графа (расстановку 0 и 1 по вершинам). Назовем конфигурацию допустимой, если вершины, соединенные ребрами, не имеют одновременно значения 1. Пусть $Z_G$ - общее количество допустимых конфигураций. Зададим  распределение на множестве всех конфигураций:\n",
    "$$\\begin{equation*}\n",
    "\\mu(\\xi) = \n",
    " \\begin{cases}\n",
    "   \\frac{1}{Z_G}, &\\text{$\\xi$ - допустимая конфигурация}\\\\\n",
    "   0, &\\text{иначе.}\n",
    " \\end{cases}\n",
    "\\end{equation*}$$\n",
    "Обозначим $n(\\xi)$ - число закрашенных вершин в конфигурации $\\xi$. Тогда\n",
    "$$\n",
    "{\\rm E} n(\\xi) = \\sum\\limits_{x \\in \\{0,1\\}^V} n(x) \\mu(x) = \\frac{1}{Z_G} \\sum\\limits_{x \\in \\{0,1\\}^V} n(x) {\\rm I}_{\\{x - \\text{допустимая} \\}}\n",
    "$$\n",
    "\n",
    "Явно перебирать все $x \\in \\{0,1\\}^{V}$ не представляется возможным. Мы могли бы попробовать оценить ${\\rm E} n(\\xi)$, используя закон больших чилел:\n",
    "$$\n",
    "{\\rm E} n(\\xi) \\approx \\frac{1}{N} \\sum\\limits_{i=1}^{N} n(\\xi), \\text{где $\\xi \\sim \\mu$}\n",
    "$$\n",
    "Но есть проблема: как смоделировать случайную величину из распределения $\\mu$?\n",
    "\n",
    "В этом нам поможет метод MCMC."
   ]
  },
  {
   "cell_type": "markdown",
   "metadata": {
    "colab_type": "text",
    "id": "FLDOqe5aqZ_F"
   },
   "source": [
    "## Задание\n",
    "\n",
    "* Оценить  ${\\rm E} n(\\xi)$ с помощью МСМС для графа 8х8\n",
    "* Обосновать численно и графически стационарность\n",
    "* Построить график распределеиня $n(\\xi)$"
   ]
  },
  {
   "cell_type": "markdown",
   "metadata": {
    "colab_type": "text",
    "id": "5u24AMtDqZ_G"
   },
   "source": [
    "Вспомогательная функция для раскраски вершин графа в соответствии с переданной маской:"
   ]
  },
  {
   "cell_type": "code",
   "execution_count": 1,
   "metadata": {},
   "outputs": [],
   "source": [
    "import matplotlib.pyplot as plt\n",
    "import numpy as np\n",
    "\n",
    "def plot_grid(narr):\n",
    "    '''Plots 2d lattice with vertices colored in black and red according to given mask.\n",
    "    Vertice is colored black if narr[i, j] == True and red otherwise.\n",
    "    \n",
    "    Parameters\n",
    "    ----------\n",
    "    narr : 2d boolean ndarray\n",
    "        Mask for vertices colors\n",
    "    '''\n",
    "\n",
    "    if narr.dtype != 'bool':\n",
    "        raise ValueError('narr should be a boolean ndarray')\n",
    "    colors = np.empty(narr.shape, dtype='U5')\n",
    "    colors[:] = 'red'\n",
    "    colors[narr] = 'black'\n",
    "    x, y = np.indices((narr.shape))\n",
    "    plt.scatter(x, y, c=colors.ravel())\n",
    "    plt.show()"
   ]
  },
  {
   "cell_type": "code",
   "execution_count": 2,
   "metadata": {},
   "outputs": [],
   "source": [
    "def metroplis(start, value, proposal, niter, nburn=0, **kwargs):\n",
    "    '''Generic Metropolis scheme.\n",
    "    Parameters\n",
    "    ---\n",
    "    start : misc\n",
    "        Initial guess.\n",
    "    value : callable\n",
    "        Function to calculate density (unnormalized) at given point.\n",
    "    proposal : callable\n",
    "        Function to get suggestion on a new point based on a current one.\n",
    "    niter : int\n",
    "        Number of iterations.\n",
    "    nburn : int\n",
    "        Number of initial samples to be skipped.\n",
    "    kwargs : dict\n",
    "        Keywords to be passed in value and proposal.\n",
    "\n",
    "    Return\n",
    "    ---\n",
    "    post : list\n",
    "        List of samples obtained.\n",
    "    '''\n",
    "    current = start\n",
    "    post = [value(current)]\n",
    "    for i in range(niter): \n",
    "        proposed = proposal(current, **kwargs)\n",
    "        p = value(proposed, **kwargs) / value(current, **kwargs)\n",
    "        if np.random.rand() < p:            \n",
    "            current = proposed\n",
    "        post.append(value(current))\n",
    "    return post[nburn:]"
   ]
  },
  {
   "cell_type": "code",
   "execution_count": 3,
   "metadata": {},
   "outputs": [],
   "source": [
    "def value(graph, **kwargs):\n",
    "    return np.sum(nstart)\n",
    "\n",
    "def point_is_good(xy, graph):\n",
    "    graph = np.pad(graph,1)\n",
    "    x, y = xy[0] + 1, xy[1] + 1 \n",
    "    neighbours = graph[np.ix_([x-1,x,x+1],[y-1,y,y+1])]\n",
    "    neighbours=np.append(neighbours[1,::2], neighbours[::2,1])\n",
    "    return not (True in neighbours) #no black neighbours -- gut!\n",
    "\n",
    "def proposal(current_graph, **kwargs):\n",
    "    x,y = np.random.randint(0,8,2)\n",
    "    new_graph = current_graph\n",
    "    \n",
    "    if point_is_good((x,y), current_graph):\n",
    "        if new_graph[x,y] == True:\n",
    "            new_graph[x,y] = False\n",
    "        else:\n",
    "            new_graph[x,y] = True\n",
    "    else:\n",
    "        if new_graph[x,y] == True:\n",
    "            new_graph[x,y] = False\n",
    "    return new_graph"
   ]
  },
  {
   "cell_type": "code",
   "execution_count": 4,
   "metadata": {},
   "outputs": [],
   "source": [
    "size=8\n",
    "niters=50"
   ]
  },
  {
   "cell_type": "code",
   "execution_count": 5,
   "metadata": {},
   "outputs": [
    {
     "data": {
      "text/plain": [
       "array([[False, False, False, False, False, False, False, False],\n",
       "       [False, False, False, False, False, False, False, False],\n",
       "       [False,  True, False, False, False, False, False, False],\n",
       "       [False, False, False, False, False, False, False, False],\n",
       "       [False, False, False, False, False, False, False, False],\n",
       "       [False, False, False, False, False, False, False, False],\n",
       "       [False, False, False, False, False, False, False, False],\n",
       "       [False, False, False, False, False, False, False, False]])"
      ]
     },
     "execution_count": 5,
     "metadata": {},
     "output_type": "execute_result"
    }
   ],
   "source": [
    "nstart=np.zeros(size*size).reshape((size, size)).astype('bool')\n",
    "nstart[np.random.randint(8),np.random.randint(8)] = True\n",
    "nstart"
   ]
  },
  {
   "cell_type": "code",
   "execution_count": 6,
   "metadata": {},
   "outputs": [
    {
     "data": {
      "image/png": "[encoded data removed]",
      "text/plain": [
       "<Figure size 432x288 with 1 Axes>"
      ]
     },
     "metadata": {},
     "output_type": "display_data"
    }
   ],
   "source": [
    "post = metroplis(nstart, value, proposal, niter=350_000, nburn=1)\n",
    "vals=[np.sum(i) for i in post]\n",
    "plt.title(r'Распределение n($\\xi$)')\n",
    "plt.xlabel('Число закрашенных точек')\n",
    "plt.hist(vals, bins=150, density=True, label='MCMC graph nods')\n",
    "plt.show()"
   ]
  },
  {
   "cell_type": "code",
   "execution_count": 7,
   "metadata": {},
   "outputs": [],
   "source": [
    "from scipy import stats"
   ]
  },
  {
   "cell_type": "code",
   "execution_count": 28,
   "metadata": {},
   "outputs": [
    {
     "data": {
      "text/plain": [
       "[<matplotlib.lines.Line2D at 0x118ac27b8>]"
      ]
     },
     "execution_count": 28,
     "metadata": {},
     "output_type": "execute_result"
    },
    {
     "data": {
      "image/png": "[encoded data removed]",
      "text/plain": [
       "<Figure size 432x288 with 1 Axes>"
      ]
     },
     "metadata": {},
     "output_type": "display_data"
    }
   ],
   "source": [
    "plt.plot(vals[::5000])"
   ]
  },
  {
   "cell_type": "code",
   "execution_count": 9,
   "metadata": {},
   "outputs": [],
   "source": [
    "def g_test(x, start=0.1, end=0.5):\n",
    "    return stats.ttest_ind(x[:int(len(x) * start)], x[-int(len(x) * end):], equal_var=False)"
   ]
  },
  {
   "cell_type": "code",
   "execution_count": 27,
   "metadata": {},
   "outputs": [
    {
     "data": {
      "text/plain": [
       "Ttest_indResult(statistic=-0.8261364391702751, pvalue=0.43854977173678733)"
      ]
     },
     "execution_count": 27,
     "metadata": {},
     "output_type": "execute_result"
    }
   ],
   "source": [
    "g_test(vals[::5000])"
   ]
  },
  {
   "cell_type": "code",
   "execution_count": null,
   "metadata": {},
   "outputs": [],
   "source": []
  }
 ],
 "metadata": {
  "kernelspec": {
   "display_name": "Python 3",
   "language": "python",
   "name": "python3"
  },
  "language_info": {
   "codemirror_mode": {
    "name": "ipython",
    "version": 3
   },
   "file_extension": ".py",
   "mimetype": "text/x-python",
   "name": "python",
   "nbconvert_exporter": "python",
   "pygments_lexer": "ipython3",
   "version": "3.6.5"
  }
 },
 "nbformat": 4,
 "nbformat_minor": 2
}
