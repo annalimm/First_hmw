{
 "cells": [
  {
   "cell_type": "markdown",
   "metadata": {
    "colab_type": "text",
    "id": "0aRCzXYcdiYx"
   },
   "source": [
    "# Случайность в вероятности и на практике\n",
    "\n",
    "О подходах к понятию случайности: \n",
    "\n",
    "Н.К. Верещагин, В.А. Успенский, А. Шень. Колмогоровская сложность и алгоритмическая случайность. \n",
    "https://www.mccme.ru/free-books/shen/kolmbook.pdf\n",
    "\n",
    "А.Н. Ширяев. Случайность в вероятности (доклад на семинаре кафедры теории веротяностей). http://www.mathnet.ru:8080/PresentFiles/21897/bsk_2018_10_17_shiryaev_an_randomness_in_probability_slides.pdf"
   ]
  },
  {
   "cell_type": "markdown",
   "metadata": {
    "colab_type": "text",
    "id": "gGaMEWqqdiYz"
   },
   "source": [
    "## Генераторы случайных чисел"
   ]
  },
  {
   "cell_type": "markdown",
   "metadata": {
    "colab_type": "text",
    "id": "KKkc3qORdiY0"
   },
   "source": [
    "Что происходит при вызове, напрмер, ```np.random.rand()```?\n",
    "\n",
    "Как устроен источник случайной последовательности?\n",
    "\n",
    "![img](https://cdn.ablebits.com/_img-blog/random-generator/random-generator.png)"
   ]
  },
  {
   "cell_type": "markdown",
   "metadata": {
    "colab_type": "text",
    "id": "z9EkarifdiY2"
   },
   "source": [
    "Рассмотрим простой и популрный алгоритм - Linear congruential generator (LCG). При вызове функции ```rand()``` в C/C++ происзодит обращение именно к LCG."
   ]
  },
  {
   "cell_type": "markdown",
   "metadata": {
    "colab_type": "text",
    "id": "sx9CIKsSdiY2"
   },
   "source": [
    "Linear congruential generator производит последовательность:\n",
    "$$ z_{i+1} = (az_i + c) \\mod m $$\n",
    "\n",
    "Число $z_0$ называется *seed* и обеспечивает воспроизводимость последовательности “случайных” чисел.\n",
    "\n",
    "Напишем функцию, которая реализует LCG:"
   ]
  },
  {
   "cell_type": "code",
   "execution_count": null,
   "metadata": {
    "colab": {},
    "colab_type": "code",
    "id": "LqxgMijIdiY3"
   },
   "outputs": [],
   "source": [
    "def rng(m=2**32, a=1103515245, c=12345):\n",
    "    rng.current = (a * rng.current + c) % m\n",
    "    return rng.current / m\n",
    "\n",
    "# setting the seed\n",
    "rng.current = 1"
   ]
  },
  {
   "cell_type": "markdown",
   "metadata": {
    "colab_type": "text",
    "id": "d0AqPXS7diY5"
   },
   "source": [
    "Выведем несколько первых элементов последовательности:"
   ]
  },
  {
   "cell_type": "code",
   "execution_count": null,
   "metadata": {
    "colab": {},
    "colab_type": "code",
    "id": "osNjN2U4diY6",
    "outputId": "13438912-a5a1-4c67-dab6-6247d775602f"
   },
   "outputs": [
    {
     "data": {
      "text/plain": [
       "[0.25693503906950355,\n",
       " 0.5878706516232342,\n",
       " 0.15432575810700655,\n",
       " 0.767266943352297,\n",
       " 0.9738139626570046,\n",
       " 0.5858681506942958,\n",
       " 0.8511155843734741,\n",
       " 0.6132153405342251,\n",
       " 0.7473867232911289,\n",
       " 0.06236015981994569]"
      ]
     },
     "execution_count": 2,
     "metadata": {
      "tags": []
     },
     "output_type": "execute_result"
    }
   ],
   "source": [
    "[rng() for i in range(10)]"
   ]
  },
  {
   "cell_type": "markdown",
   "metadata": {
    "colab_type": "text",
    "id": "xZXUiK0idiY9"
   },
   "source": [
    "Выбор параметров $m$, $a$ и $c$ существенно влияет на качество последовательности. Если параметры выбрать наобум, это может привести к неожиданным последствиям:"
   ]
  },
  {
   "cell_type": "code",
   "execution_count": null,
   "metadata": {
    "colab": {},
    "colab_type": "code",
    "id": "9DWifIyadiY9",
    "outputId": "d08ab4b5-e5ac-45f2-9c26-82a8b4b88c6d"
   },
   "outputs": [
    {
     "name": "stdout",
     "output_type": "stream",
     "text": [
      "This sequence looks as random:\n"
     ]
    },
    {
     "data": {
      "text/plain": [
       "[0.36082474226804123,\n",
       " 0.8041237113402062,\n",
       " 0.020618556701030927,\n",
       " 0.10309278350515463,\n",
       " 0.5154639175257731,\n",
       " 0.5773195876288659,\n",
       " 0.8865979381443299,\n",
       " 0.4329896907216495,\n",
       " 0.16494845360824742,\n",
       " 0.8247422680412371]"
      ]
     },
     "execution_count": 3,
     "metadata": {
      "tags": []
     },
     "output_type": "execute_result"
    }
   ],
   "source": [
    "def rng(m=97, a=5, c=0):\n",
    "    rng.current = (a * rng.current + c) % m\n",
    "    return rng.current / m\n",
    "rng.current = 7\n",
    "\n",
    "random = [rng() for i in range(1000)]\n",
    "print(\"This sequence looks as random:\")\n",
    "random[:10]"
   ]
  },
  {
   "cell_type": "markdown",
   "metadata": {
    "colab_type": "text",
    "id": "ClnjUt9ddiY_"
   },
   "source": [
    "Гистограмма распределения похожа на равномерное:"
   ]
  },
  {
   "cell_type": "code",
   "execution_count": null,
   "metadata": {
    "colab": {},
    "colab_type": "code",
    "id": "wBlZwI6ndiZA",
    "outputId": "c35d5abd-d540-4778-a9e6-169e0439fa1a"
   },
   "outputs": [
    {
     "data": {
      "image/png": "[encoded data removed]",
      "text/plain": [
       "<matplotlib.figure.Figure at 0x4e92828>"
      ]
     },
     "metadata": {
      "tags": []
     },
     "output_type": "display_data"
    }
   ],
   "source": [
    "import matplotlib.pyplot as plt\n",
    "plt.hist(random, normed=True)\n",
    "plt.show()"
   ]
  },
  {
   "cell_type": "markdown",
   "metadata": {
    "colab_type": "text",
    "id": "jK0-W5ZbdiZC"
   },
   "source": [
    "Однако, спектральный тест показывает, что точки располагаются на гиперплоскостях, что плохо согласуется с предствалением о случайности:"
   ]
  },
  {
   "cell_type": "code",
   "execution_count": null,
   "metadata": {
    "colab": {},
    "colab_type": "code",
    "id": "id0Wt3W1diZC",
    "outputId": "1df26491-1137-473f-d2e3-955220b4ed07"
   },
   "outputs": [
    {
     "data": {
      "image/png": "[encoded data removed]",
      "text/plain": [
       "<matplotlib.figure.Figure at 0x8044b70>"
      ]
     },
     "metadata": {
      "tags": []
     },
     "output_type": "display_data"
    }
   ],
   "source": [
    "plt.scatter(random[1:], random[:-1])\n",
    "plt.show()"
   ]
  },
  {
   "cell_type": "markdown",
   "metadata": {
    "colab_type": "text",
    "id": "acoBBpJ3diZE"
   },
   "source": [
    "Более аккуратный выбор параметров приводит с более \"случайному\" распределению:"
   ]
  },
  {
   "cell_type": "code",
   "execution_count": null,
   "metadata": {
    "colab": {},
    "colab_type": "code",
    "id": "bFEQUw_DdiZE",
    "outputId": "85118f78-27a9-4594-f404-23e790cbad11"
   },
   "outputs": [
    {
     "data": {
      "image/png": "[encoded data removed]",
      "text/plain": [
       "<matplotlib.figure.Figure at 0x4e92438>"
      ]
     },
     "metadata": {
      "tags": []
     },
     "output_type": "display_data"
    }
   ],
   "source": [
    "def rng(m=2**32, a=1103515245, c=12345):\n",
    "    rng.current = (a * rng.current + c) % m\n",
    "    return rng.current / m\n",
    "rng.current = 1\n",
    "\n",
    "random = [rng() for i in range(1000)]\n",
    "plt.scatter(random[1:], random[:-1])\n",
    "plt.show()"
   ]
  },
  {
   "cell_type": "markdown",
   "metadata": {
    "colab_type": "text",
    "id": "vH11PZr2diZG"
   },
   "source": [
    "Существует набор тестов для проверки \"случайности\". Например, тесты [Diehard tests](https://en.wikipedia.org/wiki/Diehard_tests)."
   ]
  },
  {
   "cell_type": "markdown",
   "metadata": {
    "colab_type": "text",
    "id": "E-_a6vHFhzGq"
   },
   "source": [
    "Больше методов генерации собрано [здесь](https://en.wikipedia.org/wiki/List_of_random_number_generators)."
   ]
  },
  {
   "cell_type": "markdown",
   "metadata": {
    "colab_type": "text",
    "id": "cuGe1hKIdiZH"
   },
   "source": [
    "## Генерация выборки из заданного распределения"
   ]
  },
  {
   "cell_type": "markdown",
   "metadata": {
    "colab_type": "text",
    "id": "P_aljqUUdiZH"
   },
   "source": [
    "Допустим, у нас есть генератор случайных числе из отрезка [0, 1]. Как получить выборку из нового распределения $F$?\n",
    "\n"
   ]
  },
  {
   "cell_type": "markdown",
   "metadata": {
    "colab_type": "text",
    "id": "nicNq6-yrD7P"
   },
   "source": [
    "### Задача\n",
    "Смоделировать выборку объема 1000 из дискретного распределения на множестве цифр 0, 1, 2, ..., 9 с весами 0.12, 0.3, 0.167, 0.24, 0.31, 0.54, 0.111, 0.02, 0.001, 0.2. По выборке построить гистограмму. Оптимизируйте алгоритм, упорядочив веса. Сравните время генерации выборки с неупорядоченными и упорядоченными весами.\n"
   ]
  },
  {
   "cell_type": "code",
   "execution_count": 43,
   "metadata": {
    "colab": {
     "base_uri": "https://localhost:8080/",
     "height": 34
    },
    "colab_type": "code",
    "id": "2djF1xMoq_1f",
    "outputId": "03611a72-ed79-4dd9-dded-759bba88248c"
   },
   "outputs": [
    {
     "name": "stdout",
     "output_type": "stream",
     "text": [
      "[5, 4, 1, 1, 2, 5, 1, 0, 4, 9]\n"
     ]
    }
   ],
   "source": [
    "import random\n",
    "import numpy as np\n",
    "import numpy.random\n",
    "import matplotlib.pyplot as plt\n",
    "import math\n",
    "list_num = [i for i in range(0,9)]\n",
    "list_weight = [0.12, 0.3, 0.167, 0.24, 0.31, 0.54, 0.111, 0.02, 0.001, 0.2]\n",
    "\n",
    "weight_tot = sum(list_weight)\n",
    "\n",
    "def random_distr_wei(list_weight, weight_tot):\n",
    "    step = 0\n",
    "    i = 0\n",
    "    rand_num =  random.uniform(0, weight_tot)\n",
    "\n",
    "    while i <= 10:\n",
    "        step += list_weight[i]\n",
    "        if (step >= rand_num):\n",
    "            return i\n",
    "    \n",
    "        i += 1\n",
    "    return i\n",
    "\n",
    "\n",
    "random = [random_distr_wei(list_weight, weight_tot) for i in range(1000)]\n",
    "print(random[:10])"
   ]
  },
  {
   "cell_type": "markdown",
   "metadata": {
    "colab_type": "text",
    "id": "F-VMprlQdiZJ"
   },
   "source": [
    "### Inverse transform method"
   ]
  },
  {
   "cell_type": "markdown",
   "metadata": {
    "colab_type": "text",
    "id": "DXgRVEkidiZJ"
   },
   "source": [
    "В следующем предложении заключается идея метода *inverse transform*:\n",
    "\n",
    "Если $\\xi$ имеет равномерное распределение в $[0,1]$, тогда $F^{-1}(\\xi)$ распределена по закону $F$. (Для каких $F$ это верно?)"
   ]
  },
  {
   "cell_type": "markdown",
   "metadata": {
    "colab_type": "text",
    "id": "LlRNa517diZK"
   },
   "source": [
    "### Задача\n",
    "Смделируйте выборку размера 1000 из распределения $Exp(\\lambda)$. Постройте выборочную гистограмму и точный график плотности распределения."
   ]
  },
  {
   "cell_type": "code",
   "execution_count": 29,
   "metadata": {
    "colab": {
     "base_uri": "https://localhost:8080/",
     "height": 320
    },
    "colab_type": "code",
    "id": "vD1_buYgdiZK",
    "outputId": "0467e20a-d533-4681-8819-acf7a03ecd2c"
   },
   "outputs": [
    {
     "name": "stderr",
     "output_type": "stream",
     "text": [
      "/usr/local/lib/python3.6/dist-packages/ipykernel_launcher.py:11: MatplotlibDeprecationWarning: \n",
      "The 'normed' kwarg was deprecated in Matplotlib 2.1 and will be removed in 3.1. Use 'density' instead.\n",
      "  # This is added back by InteractiveShellApp.init_path()\n"
     ]
    },
    {
     "data": {
      "image/png": "[encoded data removed]",
      "text/plain": [
       "<Figure size 432x288 with 1 Axes>"
      ]
     },
     "metadata": {
      "tags": []
     },
     "output_type": "display_data"
    }
   ],
   "source": [
    "import random\n",
    "import numpy as np\n",
    "import numpy.random\n",
    "import matplotlib.pyplot as plt\n",
    "import math\n",
    "\n",
    "def my_exp(lmbda=1.0):\n",
    "    return (-1 / lmbda)*math.log(np.random.rand())\n",
    "\n",
    "plt.hist([my_exp() for i in range(1000)], 50, density=True)\n",
    "plt.hist([numpy.random.exponential() for i in range(10000)], 50, normed=True)  \n",
    "plt.show()"
   ]
  },
  {
   "cell_type": "markdown",
   "metadata": {
    "colab_type": "text",
    "id": "UEtDHxDUdiZM"
   },
   "source": [
    "### Rejection sampling (Accept-reject method)\n",
    "\n",
    "Идея метода: сэмплить из распределения, из которого умеем, а затем отбирать точки, которые следуют нужному распределению. Картинка иллюстрирует идею метода:\n",
    "<img src=https://colcarroll.github.io/hamiltonian_monte_carlo_talk/images/bayes_talk.015.png style=\"width: 50%;\"/>\n",
    " "
   ]
  },
  {
   "cell_type": "markdown",
   "metadata": {
    "colab_type": "text",
    "id": "Tgzc6QjxdiZN"
   },
   "source": [
    "### Задача\n",
    "Обоснуйте, что метод accept-reject действительно производит выборку из нужного распределения. Смоделируйте 1000 точек из усеченного распределения Коши, приведенного ниже, используя генератор равномерного распределения. Нарисуйте график полученной выборочной гистограммы и сравните его с графиком точной функции плотности."
   ]
  },
  {
   "cell_type": "code",
   "execution_count": null,
   "metadata": {
    "colab": {},
    "colab_type": "code",
    "id": "06HcUVFBdiZN",
    "outputId": "05beb147-ff36-4ab9-f4ac-ea6686cb7cb1"
   },
   "outputs": [
    {
     "data": {
      "image/png": "[encoded data removed]",
      "text/plain": [
       "<matplotlib.figure.Figure at 0x838e390>"
      ]
     },
     "metadata": {
      "tags": []
     },
     "output_type": "display_data"
    }
   ],
   "source": [
    "from scipy import stats\n",
    "import numpy as np\n",
    "dist = stats.cauchy()\n",
    "x = np.linspace(-4, 4, 100)\n",
    "plt.fill_between(x, 0, dist.pdf(x)) #needs to be normalized!\n",
    "plt.show()"
   ]
  },
  {
   "cell_type": "code",
   "execution_count": 9,
   "metadata": {
    "colab": {
     "base_uri": "https://localhost:8080/",
     "height": 268
    },
    "colab_type": "code",
    "id": "O6uRvW8pdiZP",
    "outputId": "874d7384-19fb-4615-f990-bcc6e45e628e"
   },
   "outputs": [
    {
     "data": {
      "image/png": "[encoded data removed]",
      "text/plain": [
       "<Figure size 432x288 with 1 Axes>"
      ]
     },
     "metadata": {
      "tags": []
     },
     "output_type": "display_data"
    }
   ],
   "source": [
    "import numpy as np\n",
    "import scipy.stats as st\n",
    "import seaborn as sns\n",
    "import matplotlib.pyplot as plt\n",
    "\n",
    "sns.set()\n",
    "\n",
    "def p(x):\n",
    "    return st.cauchy.pdf(x, loc=0, scale=10) \n",
    "def q(x):\n",
    "    return st.norm.pdf(x, loc=20, scale=40)\n",
    "\n",
    "x = np.arange(-4, 4)\n",
    "k = max(p(x) / q(x))\n",
    "\n",
    "def rejection_sampling(iter=1000):\n",
    "    samples = []\n",
    "\n",
    "    for i in range(iter):\n",
    "        z = np.random.normal(20, 40)\n",
    "        u = np.random.uniform(0, k*q(z))\n",
    "\n",
    "        if u <= p(z):\n",
    "            samples.append(z)\n",
    "\n",
    "    return np.array(samples)\n",
    "\n",
    "\n",
    "if __name__ == '__main__':\n",
    "     #plt.plot(x, p(x))\n",
    "     #plt.plot(x, k*q(x))\n",
    "     #plt.show()\n",
    "\n",
    "     s = rejection_sampling(iter=100000)\n",
    "     sns.distplot(s)\n",
    "plt.hist([rejection_sampling(iter=10000)], 50, density=True)   \n",
    "plt.show()"
   ]
  },
  {
   "cell_type": "markdown",
   "metadata": {
    "colab_type": "text",
    "id": "kq8tMmPYdiZS"
   },
   "source": [
    "##  Coordinate transformation method\n",
    "\n",
    "Метод аccept-reject в ряде случаев может оказываться неэффективным и требовать слишком много пробных точек. Альтернатива -  попробовать найти преобразование координат, которое переводит простую область (из которой легко сэмплить, например, едининчный квадрат) в требуемую, но при этом сохраняет соотношение площадей."
   ]
  },
  {
   "cell_type": "markdown",
   "metadata": {
    "colab_type": "text",
    "id": "xGIRsM7KdiZS"
   },
   "source": [
    "### Задача\n",
    "Смоделировать выборку из 500 точек равномерно распределенных внутри данного треугольника без использования метода отбора. "
   ]
  },
  {
   "cell_type": "code",
   "execution_count": null,
   "metadata": {
    "colab": {},
    "colab_type": "code",
    "id": "V-aQwOVvdiZT",
    "outputId": "d6e9958f-57ab-4224-9974-13bc6b7bc351"
   },
   "outputs": [
    {
     "data": {
      "image/png": "[encoded data removed]",
      "text/plain": [
       "<matplotlib.figure.Figure at 0x91140b8>"
      ]
     },
     "metadata": {
      "tags": []
     },
     "output_type": "display_data"
    }
   ],
   "source": [
    "import matplotlib\n",
    "from matplotlib.patches import Polygon\n",
    "from matplotlib.collections import PatchCollection\n",
    "\n",
    "polygon = Polygon(0.1 * np.array([[1, 2], [2, 9], [8, 1]]), True)\n",
    "plt.gca().add_collection(PatchCollection([polygon]))\n",
    "plt.show()"
   ]
  },
  {
   "cell_type": "code",
   "execution_count": 25,
   "metadata": {
    "colab": {
     "base_uri": "https://localhost:8080/",
     "height": 268
    },
    "colab_type": "code",
    "id": "_x5KNetcdiZU",
    "outputId": "6f4191d0-c98a-4b61-a6b3-d9d6648e4810"
   },
   "outputs": [
    {
     "data": {
      "image/png": "[encoded data removed]",
      "text/plain": [
       "<Figure size 432x288 with 1 Axes>"
      ]
     },
     "metadata": {
      "tags": []
     },
     "output_type": "display_data"
    }
   ],
   "source": [
    "import os\n",
    "import math\n",
    "import random\n",
    "import numpy as np\n",
    "import matplotlib.pyplot as plt\n",
    "\n",
    "\n",
    "def trisample(A, B, C, r1, r2):\n",
    "    s1 = math.sqrt(r1)\n",
    "\n",
    "    x = A[0] * (1.0 - s1) + B[0] * (1.0 - r2) * s1 + C[0] * r2 * s1\n",
    "    y = A[1] * (1.0 - s1) + B[1] * (1.0 - r2) * s1 + C[1] * r2 * s1\n",
    "\n",
    "    return (x, y)\n",
    "\n",
    "if __name__ == \"__main__\":\n",
    "    N = 200\n",
    "\n",
    "    A = (1.0, 2.0)\n",
    "    B = (2.0, 9.0)\n",
    "    C = (8.0, 1.0)\n",
    "\n",
    "    seed = 1\n",
    "    xx = list()\n",
    "    yy = list()\n",
    "    random.seed(312345)\n",
    "    for k in range(0, N):\n",
    "\n",
    "   \n",
    "        r1 = random.random()\n",
    "        r2 = random.random()\n",
    "\n",
    "        pt = trisample(A, B, C, r1, r2)\n",
    "        xx.append(pt[0])\n",
    "        yy.append(pt[1])\n",
    "\n",
    "    plt.scatter(xx,  yy)\n",
    "    plt.show()"
   ]
  },
  {
   "cell_type": "markdown",
   "metadata": {
    "colab_type": "text",
    "id": "p69CWYlBdiZW"
   },
   "source": [
    "### Задача\n",
    "Смоделировать выборку из 500 точек внутри данного круга без использования метода отбора."
   ]
  },
  {
   "cell_type": "code",
   "execution_count": null,
   "metadata": {
    "colab": {},
    "colab_type": "code",
    "id": "trOeYSO9diZW",
    "outputId": "aaa9d07a-96da-4f86-cd68-06c5a5da7c2d"
   },
   "outputs": [
    {
     "data": {
      "image/png": "[encoded data removed]",
      "text/plain": [
       "<matplotlib.figure.Figure at 0x9176748>"
      ]
     },
     "metadata": {
      "tags": []
     },
     "output_type": "display_data"
    }
   ],
   "source": [
    "from matplotlib.patches import Circle\n",
    "t = np.linspace(0, 2 * np.pi, 100)\n",
    "plt.plot(np.sin(t), np.cos(t))\n",
    "plt.axis('equal')\n",
    "plt.show()"
   ]
  },
  {
   "cell_type": "code",
   "execution_count": 23,
   "metadata": {
    "colab": {
     "base_uri": "https://localhost:8080/",
     "height": 268
    },
    "colab_type": "code",
    "id": "D9qZcU9OdiZY",
    "outputId": "3f597f92-d52d-405e-dc3b-62c0acfd91f0"
   },
   "outputs": [
    {
     "data": {
      "image/png": "[encoded data removed]",
      "text/plain": [
       "<Figure size 432x288 with 1 Axes>"
      ]
     },
     "metadata": {
      "tags": []
     },
     "output_type": "display_data"
    }
   ],
   "source": [
    "from matplotlib import pyplot as plt\n",
    "import numpy as np\n",
    "\n",
    "R = np.sqrt(np.random.uniform(0, 1, 500))\n",
    "phi = np.random.uniform(0, 2*np.pi, 500)\n",
    "\n",
    "x = R * np.cos(phi)\n",
    "y = R * np.sin(phi)\n",
    "plt.scatter(x, y, s = 4)\n",
    "plt.show()"
   ]
  },
  {
   "cell_type": "markdown",
   "metadata": {
    "colab_type": "text",
    "id": "EyDObV-ty70e"
   },
   "source": [
    "### Задача\n",
    "Напишите функцию, которая моделирует случайное симметричное блуждание на двумерной решетке длины n c началом и концом в точке (0, 0). Приведите графики выборочных траекторий для n=100."
   ]
  },
  {
   "cell_type": "code",
   "execution_count": 19,
   "metadata": {},
   "outputs": [
    {
     "data": {
      "image/png": "[encoded data removed]",
      "text/plain": [
       "<Figure size 432x288 with 1 Axes>"
      ]
     },
     "metadata": {},
     "output_type": "display_data"
    }
   ],
   "source": [
    "import numpy \n",
    "from matplotlib import pyplot as plt\n",
    "n=100\n",
    "l = np.random.choice(np.arange(n), n//2, replace=False)\n",
    "m = np.random.choice(np.arange(n), n//2, replace=False)\n",
    "l_moves = np.ones(n)\n",
    "m_moves = np.ones(n)\n",
    "l_moves[l] = -1\n",
    "m_moves[m] = -1\n",
    "l = np.cumsum(l_moves)\n",
    "m = np.cumsum(m_moves)\n",
    "x = (m + l)/2\n",
    "y = (l - m)/2\n",
    "\n",
    "plt.plot(x, y)\n",
    "plt.show()"
   ]
  },
  {
   "cell_type": "markdown",
   "metadata": {
    "colab_type": "text",
    "id": "FV7suL2pdiZa"
   },
   "source": [
    "## Random normal generator"
   ]
  },
  {
   "cell_type": "markdown",
   "metadata": {
    "colab_type": "text",
    "id": "YalKYO-bdiZb"
   },
   "source": [
    "### Задача\n",
    "Докажите, что приведенный ниже алгоритм (Box-Muller algorithm) формирует выборку из независимых N(0,1) случаных величин. Модифицируйте метод, чтобы исключить вызовы тригонометрических функций ```np.sin``` и ```np.cos```. С помощью модивицированного метода смоделируйте выборку объема 1000 из двумерного гауссовского распределения со средним (3, 6) и ковариационной матрицей ((2, 1), (1, 4)). Постройте 2D гистограмму полученного распределения."
   ]
  },
  {
   "cell_type": "code",
   "execution_count": null,
   "metadata": {
    "colab": {},
    "colab_type": "code",
    "id": "L2ZJeRoJdiZc",
    "outputId": "5d57c746-0ffd-48d1-de6e-c4276349b305"
   },
   "outputs": [
    {
     "data": {
      "image/png": "[encoded data removed]",
      "text/plain": [
       "<matplotlib.figure.Figure at 0x1970da90>"
      ]
     },
     "metadata": {
      "tags": []
     },
     "output_type": "display_data"
    }
   ],
   "source": [
    "n = 1000\n",
    "u1, u2 = np.random.rand(2, n)\n",
    "r = np.sqrt(-2 * np.log(u1))\n",
    "theta = 2 * np.pi * u2\n",
    "x = r * np.cos(theta)\n",
    "y = r * np.sin(theta)\n",
    "fig, ax = plt.subplots(1, 3, figsize=(15, 5))\n",
    "ax[0].hist2d(x, y, bins=30)\n",
    "ax[0].axis('equal')\n",
    "ax[1].hist(x, bins=30)\n",
    "ax[2].hist(y, bins=30)\n",
    "ax[0].set_title(\"2d histogram\")\n",
    "ax[1].set_title(\"Histogram of x\")\n",
    "ax[2].set_title(\"Histogram of y\")\n",
    "plt.show()"
   ]
  },
  {
   "cell_type": "code",
   "execution_count": null,
   "metadata": {
    "colab": {},
    "colab_type": "code",
    "id": "DpYdmOuWdiZf"
   },
   "outputs": [],
   "source": [
    "# Solution here"
   ]
  },
  {
   "cell_type": "markdown",
   "metadata": {
    "colab_type": "text",
    "id": "14IvUqPM35xs"
   },
   "source": [
    "## Практическое задание\n",
    "\n",
    "Реализовать метод генерации случайного разбиения n-элементного множества на подмножества. С его помощью оценить ожидаемое число подмножеств в случайном разбиении множества из 100 элементов. \n",
    "\n",
    "Подсказка 1: Ширяев, Вероятность, т1, задача 2 к параграфу 1.\n",
    "\n",
    "Подсказка 2: http://djalil.chafai.net/blog/2012/05/03/generating-uniform-random-partitions/"
   ]
  },
  {
   "cell_type": "code",
   "execution_count": null,
   "metadata": {
    "colab": {},
    "colab_type": "code",
    "id": "XrRiVz6idiZk"
   },
   "outputs": [],
   "source": [
    "# Solution here"
   ]
  }
 ],
 "metadata": {
  "colab": {
   "collapsed_sections": [],
   "name": "Copy of Random_numbers.ipynb",
   "provenance": []
  },
  "kernelspec": {
   "display_name": "Python 3",
   "language": "python",
   "name": "python3"
  },
  "language_info": {
   "codemirror_mode": {
    "name": "ipython",
    "version": 3
   },
   "file_extension": ".py",
   "mimetype": "text/x-python",
   "name": "python",
   "nbconvert_exporter": "python",
   "pygments_lexer": "ipython3",
   "version": "3.6.5"
  }
 },
 "nbformat": 4,
 "nbformat_minor": 2
}
