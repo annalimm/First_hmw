{
  "nbformat": 4,
  "nbformat_minor": 0,
  "metadata": {
    "kernelspec": {
      "display_name": "Python 3.7.4 64-bit ('base': conda)",
      "language": "python",
      "name": "python37464bitbaseconda3f49bec34ca643158e91eb78878ff2a9"
    },
    "language_info": {
      "codemirror_mode": {
        "name": "ipython",
        "version": 3
      },
      "file_extension": ".py",
      "mimetype": "text/x-python",
      "name": "python",
      "nbconvert_exporter": "python",
      "pygments_lexer": "ipython3",
      "version": "3.7.4"
    },
    "colab": {
      "name": "article.ipynb",
      "provenance": [],
      "collapsed_sections": [],
      "toc_visible": true
    }
  },
  "cells": [
    {
      "cell_type": "code",
      "metadata": {
        "id": "cQFPw1FTg1NN",
        "colab_type": "code",
        "outputId": "e13a1afd-ec59-4e72-cbe5-dd71993f3ed0",
        "colab": {
          "base_uri": "https://localhost:8080/",
          "height": 122
        }
      },
      "source": [
        "from google.colab import drive\n",
        "drive.mount('/content/gdrive/')\n",
        "import os\n",
        "os.listdir('gdrive/My Drive')\n",
        "folder = 'gdrive/My Drive/mechfopf'"
      ],
      "execution_count": 0,
      "outputs": [
        {
          "output_type": "stream",
          "text": [
            "Go to this URL in a browser: https://accounts.google.com/o/oauth2/auth?client_id=947318989803-6bn6qk8qdgf4n4g3pfee6491hc0brc4i.apps.googleusercontent.com&redirect_uri=urn%3aietf%3awg%3aoauth%3a2.0%3aoob&response_type=code&scope=email%20https%3a%2f%2fwww.googleapis.com%2fauth%2fdocs.test%20https%3a%2f%2fwww.googleapis.com%2fauth%2fdrive%20https%3a%2f%2fwww.googleapis.com%2fauth%2fdrive.photos.readonly%20https%3a%2f%2fwww.googleapis.com%2fauth%2fpeopleapi.readonly\n",
            "\n",
            "Enter your authorization code:\n",
            "··········\n",
            "Mounted at /content/gdrive/\n"
          ],
          "name": "stdout"
        }
      ]
    },
    {
      "cell_type": "code",
      "metadata": {
        "id": "Q-bU9lD7-Y1t",
        "colab_type": "code",
        "colab": {}
      },
      "source": [
        "from google.colab import drive\n",
        "drive.mount('/content/drive')"
      ],
      "execution_count": 0,
      "outputs": []
    },
    {
      "cell_type": "code",
      "metadata": {
        "id": "wyWH72aqgvIr",
        "colab_type": "code",
        "colab": {}
      },
      "source": [
        "import os\n",
        "import pandas as pd\n",
        "import numpy as np"
      ],
      "execution_count": 0,
      "outputs": []
    },
    {
      "cell_type": "code",
      "metadata": {
        "id": "wePY9xrA7HO5",
        "colab_type": "code",
        "colab": {}
      },
      "source": [
        "os.chdir(folder)"
      ],
      "execution_count": 0,
      "outputs": []
    },
    {
      "cell_type": "code",
      "metadata": {
        "id": "YzfZiWLXgvI_",
        "colab_type": "code",
        "colab": {}
      },
      "source": [
        "data = pd.read_csv(\"article_data.csv\")"
      ],
      "execution_count": 0,
      "outputs": []
    },
    {
      "cell_type": "code",
      "metadata": {
        "id": "d-PyYXs_gvJB",
        "colab_type": "code",
        "colab": {}
      },
      "source": [
        "pos_reviews = data['review'][data['label']==1]\n",
        "neg_reviews = data['review'][data['label']==-1]\n",
        "unsup_reviews = data['review'][data['label']==0]"
      ],
      "execution_count": 0,
      "outputs": []
    },
    {
      "cell_type": "code",
      "metadata": {
        "id": "qYO3OVtSgvJE",
        "colab_type": "code",
        "colab": {}
      },
      "source": [
        "import gensim\n",
        "from sklearn.model_selection import train_test_split\n",
        "import numpy as np\n",
        "#use 1 for positive sentiment, 0 for negative\n",
        "y = np.concatenate((np.ones(len(pos_reviews)), np.zeros(len(neg_reviews))))\n",
        "x_train, x_test, y_train, y_test = train_test_split(np.concatenate((pos_reviews, neg_reviews)), y, test_size=0.2)\n",
        "\n",
        "#Do some very minor text preprocessing\n",
        "def cleanText(corpus):\n",
        "    punctuation = \"\"\".,?!:;(){}[]\"\"\"\n",
        "    corpus = [z.lower().replace('\\n','') for z in corpus]\n",
        "    corpus = [z.replace('<br />', ' ') for z in corpus]\n",
        "\n",
        "    #treat punctuation as individual words\n",
        "    for c in punctuation:\n",
        "        corpus = [z.replace(c, ' %s '%c) for z in corpus]\n",
        "    corpus = [z.split() for z in corpus]\n",
        "    return corpus\n",
        "\n",
        "x_train = cleanText(x_train)\n",
        "x_test = cleanText(x_test)\n",
        "unsup_reviews = cleanText(unsup_reviews)"
      ],
      "execution_count": 0,
      "outputs": []
    },
    {
      "cell_type": "code",
      "metadata": {
        "id": "yAd0hOnsgvJN",
        "colab_type": "code",
        "colab": {}
      },
      "source": [
        "import random\n",
        "size = 1000\n",
        "#instantiate our DM and DBOW models\n",
        "model_dm = gensim.models.Doc2Vec(min_count=1, window=10, vector_size=size, sample=1e-3, negative=5, workers=3)"
      ],
      "execution_count": 0,
      "outputs": []
    },
    {
      "cell_type": "code",
      "metadata": {
        "id": "67F5VnC6gvJP",
        "colab_type": "code",
        "colab": {}
      },
      "source": [
        "from gensim.models.doc2vec import Doc2Vec, TaggedDocument"
      ],
      "execution_count": 0,
      "outputs": []
    },
    {
      "cell_type": "code",
      "metadata": {
        "id": "69v6UO44gvJR",
        "colab_type": "code",
        "colab": {}
      },
      "source": [
        "tot=[]\n",
        "tot.append(x_train)\n",
        "tot.append(x_test)\n",
        "tot.append(unsup_reviews)\n",
        "tot = np.concatenate(np.array(tot))"
      ],
      "execution_count": 0,
      "outputs": []
    },
    {
      "cell_type": "code",
      "metadata": {
        "id": "eIbZFg3VgvJa",
        "colab_type": "code",
        "colab": {}
      },
      "source": [
        "documents = [TaggedDocument(doc, [i]) for i, doc in enumerate(tot)]"
      ],
      "execution_count": 0,
      "outputs": []
    },
    {
      "cell_type": "code",
      "metadata": {
        "id": "rwvMCsYsgvJd",
        "colab_type": "code",
        "colab": {}
      },
      "source": [
        "#build vocab over all reviews\n",
        "model_dm.build_vocab(documents)"
      ],
      "execution_count": 0,
      "outputs": []
    },
    {
      "cell_type": "code",
      "metadata": {
        "id": "g6KB74psgvJf",
        "colab_type": "code",
        "colab": {}
      },
      "source": [
        "#We pass through the data set multiple times, shuffling the training reviews each time to improve accuracy.\n",
        "tot_train=[]\n",
        "tot_train.append(x_train)\n",
        "tot_train.append(unsup_reviews)\n",
        "tot_train = np.concatenate(np.array(tot_train))"
      ],
      "execution_count": 0,
      "outputs": []
    },
    {
      "cell_type": "code",
      "metadata": {
        "id": "5mrn7lLy6byK",
        "colab_type": "code",
        "colab": {}
      },
      "source": [
        "perm = np.random.permutation(tot_train.shape[0])\n",
        "docs_train = [TaggedDocument(doc, [i]) for i, doc in enumerate(tot_train[perm])]"
      ],
      "execution_count": 0,
      "outputs": []
    },
    {
      "cell_type": "code",
      "metadata": {
        "id": "oYWPrTlCgvJh",
        "colab_type": "code",
        "colab": {}
      },
      "source": [
        "model_dm.train(docs_train, total_examples=model_dm.corpus_count, epochs=10)"
      ],
      "execution_count": 0,
      "outputs": []
    },
    {
      "cell_type": "code",
      "metadata": {
        "id": "_qfQ-83kgvJk",
        "colab_type": "code",
        "colab": {}
      },
      "source": [
        "docs_x_train = [TaggedDocument(doc, [i]) for i, doc in enumerate(x_train)]"
      ],
      "execution_count": 0,
      "outputs": []
    },
    {
      "cell_type": "code",
      "metadata": {
        "id": "EndPT4s5gvJm",
        "colab_type": "code",
        "colab": {}
      },
      "source": [
        "#Get training set vectors from our models\n",
        "def getVecs(model, corpus, size):\n",
        "    vecs = [np.array(model[z.tags[0]]).reshape((1, size)) for z in corpus]\n",
        "    return np.concatenate(vecs)\n",
        "\n",
        "train_vecs = getVecs(model_dm, docs_x_train, size)"
      ],
      "execution_count": 0,
      "outputs": []
    },
    {
      "cell_type": "code",
      "metadata": {
        "id": "lT7w1rZfgvJo",
        "colab_type": "code",
        "colab": {}
      },
      "source": [
        "x_test=np.array(x_test)\n",
        "perm = np.random.permutation(x_test.shape[0])\n",
        "docs_test = [TaggedDocument(doc, [i]) for i, doc in enumerate(x_test[perm])]"
      ],
      "execution_count": 0,
      "outputs": []
    },
    {
      "cell_type": "code",
      "metadata": {
        "id": "zPydNJDbgvJs",
        "colab_type": "code",
        "colab": {}
      },
      "source": [
        "model_dm.train(docs_test, total_examples=model_dm.corpus_count, epochs=model_dm.epochs)"
      ],
      "execution_count": 0,
      "outputs": []
    },
    {
      "cell_type": "code",
      "metadata": {
        "id": "j1UBrQ6ZgvJv",
        "colab_type": "code",
        "colab": {}
      },
      "source": [
        "# model_dm.save(\"model_dm_article.model\")"
      ],
      "execution_count": 0,
      "outputs": []
    },
    {
      "cell_type": "code",
      "metadata": {
        "id": "UwYLXRwzgvJx",
        "colab_type": "code",
        "colab": {}
      },
      "source": [
        "#Construct vectors for test reviews\n",
        "def getVecs(model, corpus, size):\n",
        "    vecs=[]\n",
        "    for z in corpus: \n",
        "        try:\n",
        "            v = np.array(model[z.tags[0]]).reshape((1, size))\n",
        "            vecs.append(v)\n",
        "        except:\n",
        "            pass\n",
        "    return np.concatenate(vecs)\n",
        "    \n",
        "test_vecs = getVecs(model_dm, docs_test, model_dm.vector_size)"
      ],
      "execution_count": 0,
      "outputs": []
    },
    {
      "cell_type": "code",
      "metadata": {
        "id": "NjXgXjBwgvJ3",
        "colab_type": "code",
        "colab": {}
      },
      "source": [
        "from sklearn.linear_model import SGDClassifier\n",
        "\n",
        "lr = SGDClassifier(loss='log', penalty='l1')\n",
        "lr.fit(train_vecs, y_train)"
      ],
      "execution_count": 0,
      "outputs": []
    },
    {
      "cell_type": "code",
      "metadata": {
        "id": "KOVS_XKmgvKF",
        "colab_type": "code",
        "colab": {}
      },
      "source": [
        "lr.score(train_vecs, y_train)"
      ],
      "execution_count": 0,
      "outputs": []
    },
    {
      "cell_type": "code",
      "metadata": {
        "id": "GYtv_aFbgvKI",
        "colab_type": "code",
        "colab": {}
      },
      "source": [
        "print(f'Test Accuracy: {lr.score(test_vecs, y_test)}')"
      ],
      "execution_count": 0,
      "outputs": []
    },
    {
      "cell_type": "code",
      "metadata": {
        "id": "OBQenCs97Nfz",
        "colab_type": "code",
        "colab": {}
      },
      "source": [
        ""
      ],
      "execution_count": 0,
      "outputs": []
    }
  ]
}