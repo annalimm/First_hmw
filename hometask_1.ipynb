{
 "cells": [
  {
   "cell_type": "code",
   "execution_count": 11,
   "metadata": {},
   "outputs": [],
   "source": [
    "import numpy as np\n",
    "import random as rnd"
   ]
  },
  {
   "cell_type": "code",
   "execution_count": 12,
   "metadata": {},
   "outputs": [
    {
     "name": "stdout",
     "output_type": "stream",
     "text": [
      "1\n",
      "1\n",
      "2\n",
      "3\n",
      "[1, 1, 2, 3]\n",
      "1 1 2 3 \n",
      "\n"
     ]
    },
    {
     "name": "stdin",
     "output_type": "stream",
     "text": [
      "Введи число:  5\n"
     ]
    },
    {
     "name": "stdout",
     "output_type": "stream",
     "text": [
      "[1, 1, 2, 3]\n"
     ]
    }
   ],
   "source": [
    "#Ex.3\n",
    "a = [1, 1, 2, 3, 5, 8, 13, 21, 34, 55, 89]\n",
    "for i in range(len(a)):\n",
    "    if a[i]<5:\n",
    "        print(a[i])\n",
    "b = []\n",
    "for i in range(len(a)):\n",
    "    if a[i] < 5:\n",
    "        b.append(a[i])\n",
    "print(b)\n",
    "for elem in b:\n",
    "    print(elem, end=' ')\n",
    "print('\\n')\n",
    "d=[]\n",
    "c=int(input(\"Введи число: \"))\n",
    "for elem in a:\n",
    "    if elem<c:\n",
    "        d.append(elem)\n",
    "print(d)        "
   ]
  },
  {
   "cell_type": "code",
   "execution_count": 13,
   "metadata": {},
   "outputs": [
    {
     "name": "stdin",
     "output_type": "stream",
     "text": [
      "Введи число:  8\n"
     ]
    },
    {
     "name": "stdout",
     "output_type": "stream",
     "text": [
      "Делители: [1, 2, 4, 8]\n"
     ]
    }
   ],
   "source": [
    "#Ex.4\n",
    "a=int(input(\"Введи число: \"))\n",
    "b=[]\n",
    "for i in range(1,a+1):\n",
    "    if a%i==0:\n",
    "        b.append(i)\n",
    "print(\"Делители:\",b)"
   ]
  },
  {
   "cell_type": "code",
   "execution_count": 14,
   "metadata": {},
   "outputs": [
    {
     "name": "stdout",
     "output_type": "stream",
     "text": [
      "[1, 2, 3, 5, 8, 13]\n"
     ]
    },
    {
     "name": "stdin",
     "output_type": "stream",
     "text": [
      " 13\n",
      " 15\n"
     ]
    },
    {
     "name": "stdout",
     "output_type": "stream",
     "text": [
      "[13, 14, 13, 14, 15, 13, 14, 14, 15, 14, 13, 14, 14, 14, 15]\n",
      "[13, 13, 15, 15, 15, 15, 15, 13, 13, 13, 13, 15, 15]\n",
      "[13, 15]\n"
     ]
    }
   ],
   "source": [
    "#Ex.5\n",
    "a = [1, 1, 2, 3, 5, 8, 13, 21, 34, 55, 89]\n",
    "b = [1, 2, 3, 4, 5, 6, 7, 8, 9, 10, 11, 12, 13]\n",
    "k=0\n",
    "c=[]\n",
    "for elema in a:\n",
    "    for elemb in b:\n",
    "        if elema == elemb:\n",
    "            for elemc in c:\n",
    "                if elema==elemc:\n",
    "                    k=1\n",
    "            if k==0:\n",
    "                c.append(elema)\n",
    "    k=0\n",
    "print(c)\n",
    "a1=int(input())\n",
    "a2=int(input())\n",
    "len1=rnd.randint(a1,a2)\n",
    "len2=rnd.randint(a1,a2)\n",
    "a=[]\n",
    "b=[]\n",
    "for i in range(len1):\n",
    "    a.append(rnd.randint(a1,a2))\n",
    "for i in range(len2):\n",
    "    b.append(rnd.randint(a1,a2)) \n",
    "print(a)\n",
    "print(b)\n",
    "k=0\n",
    "c=[]\n",
    "for elema in a:\n",
    "    for elemb in b:\n",
    "        if elema == elemb:\n",
    "            for elemc in c:\n",
    "                if elema==elemc:\n",
    "                    k=1\n",
    "            if k==0:\n",
    "                c.append(elema)\n",
    "    k=0\n",
    "print(c)"
   ]
  },
  {
   "cell_type": "code",
   "execution_count": 15,
   "metadata": {},
   "outputs": [
    {
     "name": "stdin",
     "output_type": "stream",
     "text": [
      " 2\n"
     ]
    },
    {
     "name": "stdout",
     "output_type": "stream",
     "text": [
      "палиндром\n"
     ]
    }
   ],
   "source": [
    "#Ex.6\n",
    "s=str(input())\n",
    "k=0\n",
    "for i in range(len(s)//2):\n",
    "    if s[i] == s[len(s)-i-1]:\n",
    "        k=k+1\n",
    "if k == len(s)//2:\n",
    "    print('палиндром')\n",
    "else:\n",
    "    print('не палиндром')\n"
   ]
  },
  {
   "cell_type": "code",
   "execution_count": 16,
   "metadata": {},
   "outputs": [
    {
     "name": "stdin",
     "output_type": "stream",
     "text": [
      " 5\n",
      " 8\n"
     ]
    },
    {
     "name": "stdout",
     "output_type": "stream",
     "text": [
      "[7, 6, 7, 5, 5, 8, 5]\n",
      "[6, 8]\n"
     ]
    }
   ],
   "source": [
    "#Ex.7\n",
    "a1=int(input())\n",
    "a2=int(input())\n",
    "len=rnd.randint(a1,a2)\n",
    "a=[]\n",
    "for i in range(len):\n",
    "    a.append(rnd.randint(a1,a2))\n",
    "print(a)\n",
    "b = [b for b in a if b%2==0]\n",
    "print(b)"
   ]
  },
  {
   "cell_type": "code",
   "execution_count": 18,
   "metadata": {},
   "outputs": [
    {
     "name": "stdin",
     "output_type": "stream",
     "text": [
      "Сколько чисел Фиббоначи вывести? 7\n"
     ]
    },
    {
     "name": "stdout",
     "output_type": "stream",
     "text": [
      "0\n",
      "1\n",
      "1\n",
      "2\n",
      "3\n",
      "5\n",
      "8\n"
     ]
    }
   ],
   "source": [
    "#Ex.13\n",
    "def fib(b):\n",
    "    c=0\n",
    "    if b >= 1:\n",
    "        print(c)\n",
    "    if b > 1:\n",
    "        d = 1\n",
    "        print(d)\n",
    "        b=b-2\n",
    "        while b > 0:\n",
    "            a=c+d\n",
    "            print(a)\n",
    "            c=d\n",
    "            d=a\n",
    "            b-=1\n",
    "    return\n",
    "\n",
    "a=int(input(\"Сколько чисел Фиббоначи вывести?\"))\n",
    "if a <= 0:\n",
    "    print('упс')\n",
    "fib(a)"
   ]
  },
  {
   "cell_type": "code",
   "execution_count": null,
   "metadata": {},
   "outputs": [],
   "source": []
  }
 ],
 "metadata": {
  "kernelspec": {
   "display_name": "Python 3",
   "language": "python",
   "name": "python3"
  },
  "language_info": {
   "codemirror_mode": {
    "name": "ipython",
    "version": 3
   },
   "file_extension": ".py",
   "mimetype": "text/x-python",
   "name": "python",
   "nbconvert_exporter": "python",
   "pygments_lexer": "ipython3",
   "version": "3.6.5"
  }
 },
 "nbformat": 4,
 "nbformat_minor": 2
}
